{
 "cells": [
  {
   "cell_type": "code",
   "execution_count": 1,
   "id": "aa2ac9c0",
   "metadata": {},
   "outputs": [],
   "source": [
    "import numpy as np"
   ]
  },
  {
   "cell_type": "code",
   "execution_count": 4,
   "id": "977b3f80",
   "metadata": {},
   "outputs": [],
   "source": [
    "path = 'C:/Users/Habibullah/Desktop/Data science projest/Olympic 2012 Medal Tally2.xlsx'"
   ]
  },
  {
   "cell_type": "code",
   "execution_count": 10,
   "id": "27147fc5",
   "metadata": {},
   "outputs": [],
   "source": [
    "olympic_2012_Medal_countries =np.array(['Great Britain','China','Russia','United States','Korea','Japan','Germany'])\n",
    "olympic_2012_Medal_country_code =np.array(['GBR','CHN','RUS','US','KOR','JPN','GER'])\n",
    "olympic_2012_Medal_countries_gold =np.array([29,38,24,46,13,7,11])\n",
    "olympic_2012_Medal_countries_silver =np.array([17,28,25,28,8,14,11])\n",
    "olympic_2012_Medal_countries_bronze =np.array([19,22,32,29,7,17,14])\n",
    "olympic_2012_Medal_countries_medal_tally =np.stack((olympic_2012_Medal_countries_gold,olympic_2012_Medal_countries_silver,olympic_2012_Medal_countries_bronze))\n",
    "olympic_2012_Medal_countries_list_numpy_format =np.stack((olympic_2012_Medal_countries,olympic_2012_Medal_country_code,olympic_2012_Medal_countries_gold,olympic_2012_Medal_countries_silver,olympic_2012_Medal_countries_bronze))\n"
   ]
  },
  {
   "cell_type": "code",
   "execution_count": 43,
   "id": "8b4c96fa",
   "metadata": {},
   "outputs": [
    {
     "data": {
      "text/plain": [
       "numpy.ndarray"
      ]
     },
     "execution_count": 43,
     "metadata": {},
     "output_type": "execute_result"
    }
   ],
   "source": [
    "type(olympic_2012_Medal_countries_list_numpy_format)"
   ]
  },
  {
   "cell_type": "code",
   "execution_count": 7,
   "id": "8cc8c6bf",
   "metadata": {},
   "outputs": [
    {
     "name": "stdout",
     "output_type": "stream",
     "text": [
      "Great Britain\n",
      "China\n",
      "Russia\n",
      "United States\n",
      "Korea\n",
      "Japan\n",
      "Germany\n"
     ]
    }
   ],
   "source": [
    "#Find and print the name of the country that won maximum gold medals\n",
    "for country in olympic_2012_Medal_countries:\n",
    "    print(country)"
   ]
  },
  {
   "cell_type": "code",
   "execution_count": 19,
   "id": "2fd88195",
   "metadata": {},
   "outputs": [
    {
     "name": "stdout",
     "output_type": "stream",
     "text": [
      "['Great Britain' 'China' 'Russia' 'United States']\n"
     ]
    }
   ],
   "source": [
    "#Find and print the countries who won more than 20 gold medals\n",
    "olympic_2012_Medal_countries_list_numpy_format_MoreThan20Gold = olympic_2012_Medal_countries_list_numpy_format[0][olympic_2012_Medal_countries_gold>20]\n",
    "print(olympic_2012_Medal_countries_list_numpy_format_MoreThan20Gold)\n"
   ]
  },
  {
   "cell_type": "code",
   "execution_count": 24,
   "id": "58238b27",
   "metadata": {},
   "outputs": [
    {
     "name": "stdout",
     "output_type": "stream",
     "text": [
      "[['29' '38' '24' '46' '13' '7' '11']\n",
      " ['17' '28' '25' '28' '8' '14' '11']\n",
      " ['19' '22' '32' '29' '7' '17' '14']]\n"
     ]
    }
   ],
   "source": [
    "#Print the medal tally\n",
    "medal_tally = olympic_2012_Medal_countries_list_numpy_format[2:5,:]\n",
    "print(medal_tally)"
   ]
  },
  {
   "cell_type": "code",
   "execution_count": 31,
   "id": "0c712f98",
   "metadata": {},
   "outputs": [
    {
     "name": "stdout",
     "output_type": "stream",
     "text": [
      "Great Britain has 29 number of gold medals\n",
      "China has 38 number of gold medals\n",
      "Russia has 24 number of gold medals\n",
      "United States has 46 number of gold medals\n",
      "Korea has 13 number of gold medals\n",
      "Japan has 7 number of gold medals\n",
      "Germany has 11 number of gold medals\n"
     ]
    }
   ],
   "source": [
    "#Print each country name with the corresponding number of gold medals\n",
    "for i in range(len(olympic_2012_Medal_countries_list_numpy_format[0])):\n",
    "    country = olympic_2012_Medal_countries_list_numpy_format[0][i]\n",
    "    country_number_of_gold = olympic_2012_Medal_countries_list_numpy_format[2][i]\n",
    "    print('{} has {} number of gold medals'.format(country,country_number_of_gold))"
   ]
  },
  {
   "cell_type": "code",
   "execution_count": 41,
   "id": "f913ce13",
   "metadata": {},
   "outputs": [
    {
     "name": "stdout",
     "output_type": "stream",
     "text": [
      "Great Britain has 65 total number of medals won\n",
      "China has 88 total number of medals won\n",
      "Russia has 81 total number of medals won\n",
      "United States has 103 total number of medals won\n",
      "Korea has 28 total number of medals won\n",
      "Japan has 38 total number of medals won\n",
      "Germany has 36 total number of medals won\n"
     ]
    }
   ],
   "source": [
    "#Print each country's name with the total number of medals won.\n",
    "\n",
    "for i in range(len(olympic_2012_Medal_countries_list_numpy_format[0])):\n",
    "    country = olympic_2012_Medal_countries_list_numpy_format[0][i]\n",
    "    country_total_number_of_medal_won = int(olympic_2012_Medal_countries_list_numpy_format[2][i]) + int(olympic_2012_Medal_countries_list_numpy_format[3][i])+ int(olympic_2012_Medal_countries_list_numpy_format[4][i])\n",
    "    print('{} has {} total number of medals won'.format(country,country_total_number_of_medal_won))"
   ]
  },
  {
   "cell_type": "code",
   "execution_count": 44,
   "id": "e1db308a",
   "metadata": {},
   "outputs": [
    {
     "data": {
      "text/plain": [
       "numpy.str_"
      ]
     },
     "execution_count": 44,
     "metadata": {},
     "output_type": "execute_result"
    }
   ],
   "source": [
    "type(olympic_2012_Medal_countries_list_numpy_format[2][i])"
   ]
  },
  {
   "cell_type": "code",
   "execution_count": null,
   "id": "f393c363",
   "metadata": {},
   "outputs": [],
   "source": []
  }
 ],
 "metadata": {
  "kernelspec": {
   "display_name": "Python 3",
   "language": "python",
   "name": "python3"
  },
  "language_info": {
   "codemirror_mode": {
    "name": "ipython",
    "version": 3
   },
   "file_extension": ".py",
   "mimetype": "text/x-python",
   "name": "python",
   "nbconvert_exporter": "python",
   "pygments_lexer": "ipython3",
   "version": "3.8.8"
  }
 },
 "nbformat": 4,
 "nbformat_minor": 5
}
